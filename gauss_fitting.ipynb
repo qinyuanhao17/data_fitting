{
 "cells": [
  {
   "cell_type": "code",
   "execution_count": 1,
   "metadata": {},
   "outputs": [],
   "source": [
    "import autograd.numpy as np #必须用这个numpy，直接导入numpy迭代会报错\n",
    "import sympy as sp\n",
    "from autograd import grad, jacobian\n",
    "import matplotlib.pyplot as plt\n",
    "import openpyxl as xl"
   ]
  },
  {
   "cell_type": "code",
   "execution_count": 2,
   "metadata": {},
   "outputs": [],
   "source": [
    "wb = xl.load_workbook('D:\\data_fitting\\gaussian\\gaussian.xlsx')\n",
    "sheet = wb['Sheet1']\n",
    "x = []\n",
    "y = []\n",
    "for row in range(1, sheet.max_row+1):\n",
    "    cell = sheet.cell(row=row,column=1)\n",
    "    x.append(cell.value)\n",
    "for row in range(1, sheet.max_row+1):\n",
    "    cell = sheet.cell(row=row,column=2)\n",
    "    y.append(cell.value)\n",
    "\n",
    "x_data = np.array(x).flatten()\n",
    "y_data = np.array(y).flatten()\n",
    "n = len(x_data)"
   ]
  },
  {
   "cell_type": "code",
   "execution_count": 3,
   "metadata": {},
   "outputs": [],
   "source": [
    "def gaussian(x,a):\n",
    "    g = a[0]/(a[1]*np.sqrt(np.pi/(4*np.log(2))))*np.exp(-4*np.log(2)*(x-a[2])**2/a[1]**2)+a[3]\n",
    "    return g\n",
    "\n",
    "def chi_square(a):\n",
    "\n",
    "    chi_square = 0\n",
    "    for i in range(n):\n",
    "        chi_square += (y_data[i] - (a[0]/(a[1]*np.sqrt(np.pi/(4*np.log(2))))*np.exp(-4*np.log(2)*(x_data[i]-a[2])**2/a[1]**2)+a[3]))**2\n",
    "    return chi_square"
   ]
  },
  {
   "cell_type": "code",
   "execution_count": 4,
   "metadata": {},
   "outputs": [
    {
     "data": {
      "text/latex": [
       "$\\displaystyle \\frac{2 a_{1} e^{- \\frac{4 \\left(- a_{3} + x\\right)^{2} \\log{\\left(2 \\right)}}{a_{2}^{2}}} \\sqrt{\\log{\\left(2 \\right)}}}{\\sqrt{\\pi} a_{2}} + a_{4}$"
      ],
      "text/plain": [
       "2*a1*exp(-4*(-a3 + x)**2*log(2)/a2**2)*sqrt(log(2))/(sqrt(pi)*a2) + a4"
      ]
     },
     "execution_count": 4,
     "metadata": {},
     "output_type": "execute_result"
    }
   ],
   "source": [
    "x, a1, a2, a3, a4 = sp.symbols('x a1 a2 a3 a4')\n",
    "f = a1/(a2*sp.sqrt(sp.pi/(4*sp.ln(2))))*sp.exp(-4*sp.ln(2)*(x-a3)**2/a2**2)+a4\n",
    "f"
   ]
  },
  {
   "cell_type": "code",
   "execution_count": 5,
   "metadata": {},
   "outputs": [
    {
     "data": {
      "text/latex": [
       "$\\displaystyle \\frac{2 e^{- \\frac{4 \\left(- a_{3} + x\\right)^{2} \\log{\\left(2 \\right)}}{a_{2}^{2}}} \\sqrt{\\log{\\left(2 \\right)}}}{\\sqrt{\\pi} a_{2}}$"
      ],
      "text/plain": [
       "2*exp(-4*(-a3 + x)**2*log(2)/a2**2)*sqrt(log(2))/(sqrt(pi)*a2)"
      ]
     },
     "execution_count": 5,
     "metadata": {},
     "output_type": "execute_result"
    }
   ],
   "source": [
    "sp.diff(f,a1)"
   ]
  },
  {
   "cell_type": "code",
   "execution_count": 6,
   "metadata": {},
   "outputs": [
    {
     "data": {
      "text/latex": [
       "$\\displaystyle - \\frac{2 a_{1} e^{- \\frac{4 \\left(- a_{3} + x\\right)^{2} \\log{\\left(2 \\right)}}{a_{2}^{2}}} \\sqrt{\\log{\\left(2 \\right)}}}{\\sqrt{\\pi} a_{2}^{2}} + \\frac{16 a_{1} \\left(- a_{3} + x\\right)^{2} e^{- \\frac{4 \\left(- a_{3} + x\\right)^{2} \\log{\\left(2 \\right)}}{a_{2}^{2}}} \\log{\\left(2 \\right)}^{\\frac{3}{2}}}{\\sqrt{\\pi} a_{2}^{4}}$"
      ],
      "text/plain": [
       "-2*a1*exp(-4*(-a3 + x)**2*log(2)/a2**2)*sqrt(log(2))/(sqrt(pi)*a2**2) + 16*a1*(-a3 + x)**2*exp(-4*(-a3 + x)**2*log(2)/a2**2)*log(2)**(3/2)/(sqrt(pi)*a2**4)"
      ]
     },
     "execution_count": 6,
     "metadata": {},
     "output_type": "execute_result"
    }
   ],
   "source": [
    "sp.diff(f,a2)"
   ]
  },
  {
   "cell_type": "code",
   "execution_count": 7,
   "metadata": {},
   "outputs": [
    {
     "data": {
      "text/latex": [
       "$\\displaystyle - \\frac{8 a_{1} \\cdot \\left(2 a_{3} - 2 x\\right) e^{- \\frac{4 \\left(- a_{3} + x\\right)^{2} \\log{\\left(2 \\right)}}{a_{2}^{2}}} \\log{\\left(2 \\right)}^{\\frac{3}{2}}}{\\sqrt{\\pi} a_{2}^{3}}$"
      ],
      "text/plain": [
       "-8*a1*(2*a3 - 2*x)*exp(-4*(-a3 + x)**2*log(2)/a2**2)*log(2)**(3/2)/(sqrt(pi)*a2**3)"
      ]
     },
     "execution_count": 7,
     "metadata": {},
     "output_type": "execute_result"
    }
   ],
   "source": [
    "sp.diff(f,a3)"
   ]
  },
  {
   "cell_type": "code",
   "execution_count": 8,
   "metadata": {},
   "outputs": [],
   "source": [
    "'''Derive the function for Newton-Raphson'''\n",
    "def func1(a):\n",
    "    diff = 0\n",
    "    for i in range(n):\n",
    "        diff += (y_data[i] - (a[0]/(a[1]*np.sqrt(np.pi/(4*np.log(2))))*np.exp(-4*np.log(2)*(x_data[i]-a[2])**2/a[1]**2)+a[3]))*(1/(a[1]*np.sqrt(np.pi/(4*np.log(2))))*np.exp(-4*np.log(2)*(x_data[i]-a[2])**2/a[1]**2)+a[3])\n",
    "    return diff\n",
    "\n",
    "def func2(a):\n",
    "    diff = 0\n",
    "    for i in range(n):\n",
    "        diff += (y_data[i] - (a[0]/(a[1]*np.sqrt(np.pi/(4*np.log(2))))*np.exp(-4*np.log(2)*(x_data[i]-a[2])**2/a[1]**2)+a[3]))*(-2*a[0]*np.exp(-4*(x_data[i]-a[2])**2*np.log(2)/a[1]**2)*np.sqrt(np.log(2))/(np.sqrt(np.pi)*a[1]**2)+16*a[0]*(x_data[i]-a[2])**2*np.exp(-4*(x_data[i]-a[2])**2*np.log(2)/a[1]**2)*np.log(2)**(3/2)/(np.sqrt(np.pi)*a[1]**4))\n",
    "    return diff\n",
    "\n",
    "def func3(a):\n",
    "    diff = 0\n",
    "    for i in range(n):\n",
    "         diff += (y_data[i] - (a[0]/(a[1]*np.sqrt(np.pi/(4*np.log(2))))*np.exp(-4*np.log(2)*(x_data[i]-a[2])**2/a[1]**2)+a[3]))*(-8*a[0]*(2*a[2]-2*x_data[i])*np.exp(-4*(x_data[i]-a[2])**2*np.log(2)/a[1]**2)*np.log(2)**(3/2)/(np.sqrt(np.pi)*a[1]**3))\n",
    "    return diff\n",
    "\n",
    "def func4(a):\n",
    "    diff = 0\n",
    "    for i in range(n):\n",
    "        diff += (y_data[i] - (a[0]/(a[1]*np.sqrt(np.pi/(4*np.log(2))))*np.exp(-4*np.log(2)*(x_data[i]-a[2])**2/a[1]**2)+a[3]))\n",
    "    return diff"
   ]
  },
  {
   "cell_type": "code",
   "execution_count": 9,
   "metadata": {},
   "outputs": [],
   "source": [
    "jac_func1 = jacobian(func1)\n",
    "jac_func2 = jacobian(func2)\n",
    "jac_func3 = jacobian(func3)\n",
    "jac_func4 = jacobian(func4)\n"
   ]
  },
  {
   "cell_type": "code",
   "execution_count": 10,
   "metadata": {},
   "outputs": [
    {
     "name": "stdout",
     "output_type": "stream",
     "text": [
      "0\n",
      "[[0.65999033]\n",
      " [0.19144531]\n",
      " [0.00234471]\n",
      " [0.08185345]]\n",
      "----------\n",
      "1\n",
      "[[0.94580921]\n",
      " [1.02867395]\n",
      " [0.00905306]\n",
      " [0.08026768]]\n",
      "----------\n",
      "2\n",
      "[[0.08939408]\n",
      " [0.06265596]\n",
      " [0.00153792]\n",
      " [0.01748824]]\n",
      "----------\n",
      "3\n",
      "[[0.02987745]\n",
      " [0.05033199]\n",
      " [0.00020208]\n",
      " [0.00499481]]\n",
      "----------\n",
      "4\n",
      "[[3.93058654e-03]\n",
      " [5.57840568e-03]\n",
      " [6.24241885e-06]\n",
      " [6.75086651e-04]]\n",
      "----------\n",
      "5\n",
      "[[5.45485899e-05]\n",
      " [6.72540848e-05]\n",
      " [2.53688604e-08]\n",
      " [9.35439707e-06]]\n",
      "----------\n",
      "6\n",
      "[[8.83391536e-09]\n",
      " [9.65995975e-09]\n",
      " [1.84245309e-12]\n",
      " [1.51582242e-09]]\n",
      "----------\n",
      "7\n",
      "[[1.78227743e-16]\n",
      " [2.41203800e-16]\n",
      " [0.00000000e+00]\n",
      " [1.66603753e-16]]\n",
      "----------\n",
      "The Solution is: [[ 1.2458476 ]\n",
      " [ 1.84113687]\n",
      " [29.71050536]\n",
      " [ 1.33277073]]\n",
      "LHS of function 1: [0.]\n",
      "LHS of function 2: [-0.]\n",
      "LHS of function 3: [0.]\n",
      "LHS of function 4: [0.]\n",
      "The estimation error is: [0.0290496]\n"
     ]
    }
   ],
   "source": [
    "i = 0\n",
    "error = 100\n",
    "tol = 1e-12\n",
    "maxiter = 1000\n",
    "M = 4\n",
    "N = 4\n",
    "\n",
    "x_0 = np.array([2.,1.,30., 1.56], dtype=float).reshape(N,1)\n",
    "fun_evaluate = np.array([func1(x_0),func2(x_0),func3(x_0),func4(x_0)]).reshape(M,1)\n",
    "\n",
    "er = []\n",
    "iter = []\n",
    "while np.any(error > tol) and i < maxiter:\n",
    "    func_evaluate = np.array([func1(x_0),func2(x_0),func3(x_0),func4(x_0)]).reshape(M,1)\n",
    "    flat_x_0 = x_0.flatten()\n",
    "    jac = np.array([jac_func1(flat_x_0),jac_func2(flat_x_0),jac_func3(flat_x_0),jac_func4(flat_x_0)])\n",
    "    jac.reshape(M,N)\n",
    "\n",
    "    x_new = x_0 - np.linalg.inv(jac)@func_evaluate\n",
    "    error = (abs(x_new - x_0)/x_0)\n",
    "    \n",
    "    x_0 = x_new\n",
    "\n",
    "    print(i)\n",
    "    print(error)\n",
    "    print('-'*10)\n",
    "\n",
    "    er.append(error)\n",
    "    iter.append(i)\n",
    "    \n",
    "    i += 1\n",
    "    \n",
    "print('The Solution is: {}'.format(x_new))\n",
    "print(\"LHS of function 1: {}\".format(np.around(func1(x_new),6)))\n",
    "print(\"LHS of function 2: {}\".format(np.around(func2(x_new),6)))\n",
    "print(\"LHS of function 3: {}\".format(np.around(func3(x_new),6)))\n",
    "print(\"LHS of function 4: {}\".format(np.around(func4(x_new),6)))\n",
    "print(\"The estimation error is: {}\".format(np.sqrt(chi_square(x_new)/(n-4))))\n"
   ]
  },
  {
   "cell_type": "code",
   "execution_count": 11,
   "metadata": {},
   "outputs": [
    {
     "data": {
      "image/png": "[encoded data removed]",
      "text/plain": [
       "<Figure size 640x480 with 1 Axes>"
      ]
     },
     "metadata": {},
     "output_type": "display_data"
    }
   ],
   "source": [
    "plt.scatter(x_data,y_data)\n",
    "x = np.linspace(27,32.5,200)\n",
    "y = gaussian(x,x_new)\n",
    "plt.plot(x,y,'r')\n",
    "plt.show()"
   ]
  }
 ],
 "metadata": {
  "kernelspec": {
   "display_name": "Python 3.9.15 ('data_fitting')",
   "language": "python",
   "name": "python3"
  },
  "language_info": {
   "codemirror_mode": {
    "name": "ipython",
    "version": 3
   },
   "file_extension": ".py",
   "mimetype": "text/x-python",
   "name": "python",
   "nbconvert_exporter": "python",
   "pygments_lexer": "ipython3",
   "version": "3.9.15 (main, Nov  4 2022, 16:35:55) [MSC v.1916 64 bit (AMD64)]"
  },
  "orig_nbformat": 4,
  "vscode": {
   "interpreter": {
    "hash": "900daa50a5cfb2fd8f0ba4069bf1126d50bf4db34b8eab2ab4c39cb5b215420a"
   }
  }
 },
 "nbformat": 4,
 "nbformat_minor": 2
}
