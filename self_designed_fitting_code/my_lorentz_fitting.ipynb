{
 "cells": [
  {
   "cell_type": "code",
   "execution_count": 82,
   "metadata": {},
   "outputs": [],
   "source": [
    "import autograd.numpy as np\n",
    "import openpyxl as xl\n",
    "import sympy as sp\n",
    "import matplotlib.pyplot as plt\n",
    "\n",
    "from sympy.abc import x\n",
    "from sympy.utilities.lambdify import lambdify, implemented_function\n",
    "from autograd import grad, jacobian\n"
   ]
  },
  {
   "cell_type": "code",
   "execution_count": 83,
   "metadata": {},
   "outputs": [],
   "source": [
    "'''Import data and get the length of data'''\n",
    "x_data =np.array([0, 25, 50, 75, 100, 125, 150, 175, 200])\n",
    "y_data =np.array([10.6, 16.0, 45.0, 83.5, 52.8, 19.9, 10.8, 8.25, 4.7])\n",
    "n = len(x_data)"
   ]
  },
  {
   "cell_type": "markdown",
   "metadata": {},
   "source": [
    "The fitting function is:\n",
    "$$\n",
    "f(E) = \\frac{f_r}{(E-E_r)^2+\\Gamma^2/4}\n",
    "$$\n",
    "Which can be simplified to:\n",
    "$$\n",
    "g(x) = \\frac{a_1}{(x-a_2)^2+a_3}\n",
    "$$\n",
    "Thus function need to be minimized is:\n",
    "$$\n",
    "\\chi^2 = \\sum_{i=1}^{N_D}\\left(y_i-g(x_i)\\right)^2=0\n",
    "$$\n",
    "To get the minimum of $\\chi^2$, we have to take partial derivatives on $a_i \\ (i = 1,2,3)$ and set them to zero:\n",
    "$$\\begin{split}\n",
    "&f_1(a_1,a_2,a_3) =\\sum_{i=1}^{N_D}\\frac{(y_i - g(x_i,a))}{(x_i-a_2)^2+a_3}=0\\\\\n",
    "&f_2(a_1,a_2,a_3) =\\sum_{i=1}^{N_D}\\frac{(y_i - g(x_i,a))(x_i-a_2)}{((x_i-a_2)^2+a_3)^2}=0\\\\\n",
    "&f_3(a_1,a_2,a_3) =\\sum_{i=1}^{N_D}\\frac{(y_i - g(x_i,a))}{((x_i-a_2)^2+a_3)^2}=0\n",
    "\\end{split}$$"
   ]
  },
  {
   "cell_type": "code",
   "execution_count": 84,
   "metadata": {},
   "outputs": [
    {
     "name": "stdout",
     "output_type": "stream",
     "text": [
      "1/(c + (-b + x)**2)\n",
      "a*(-2*b + 2*x)/(c + (-b + x)**2)**2\n",
      "-a/(c + (-b + x)**2)**2\n"
     ]
    }
   ],
   "source": [
    "'''Take partial derivatives'''\n",
    "x, a, b, c= sp.symbols('x a b c')\n",
    "f = a/((x-b)**2+c)\n",
    "f_a = sp.diff(f,a)\n",
    "f_b = sp.diff(f,b)\n",
    "f_c = sp.diff(f,c)\n",
    "\n",
    "print(f_a)\n",
    "print(f_b)\n",
    "print(f_c)\n",
    "\n",
    "lam_f_a = lambdify([x, b, c], f_a)\n",
    "lam_f_b = lambdify([x, a, b, c], f_b)\n",
    "lam_f_c = lambdify([x, a, b, c], f_c)\n"
   ]
  },
  {
   "cell_type": "code",
   "execution_count": 85,
   "metadata": {},
   "outputs": [],
   "source": [
    "# '''Three function that need to be fitted through Newton Raphson'''\n",
    "# def func1(x):\n",
    "\n",
    "#     sr_diff = 0\n",
    "#     for i in range(n):\n",
    "#         sr_diff += (y_data[i] - x[0]/((x_data[i]-x[1])**2+x[2]))/((x_data[i]-x[1]**2)+x[2])\n",
    "   \n",
    "#     return sr_diff\n",
    "\n",
    "\n",
    "# def func2(x):\n",
    "\n",
    "#     sr_diff = 0\n",
    "#     for i in range(n):\n",
    "#         sr_diff += (y_data[i] - x[0]/((x_data[i]-x[1])**2+x[2]))*2*x[0]*(x_data[i]-x[1])/((x_data[i]-x[1])**2+x[2])**2\n",
    "    \n",
    "#     return sr_diff\n",
    "\n",
    "# def func3(x):\n",
    "\n",
    "#     sr_diff = 0\n",
    "#     for i in range(n):\n",
    "#         sr_diff += (y_data[i] - x[0]/((x_data[i]-x[1])**2+x[2]))*(-x[0])/((x_data[i]-x[1]**2)+x[2])**2\n",
    "    \n",
    "#     return sr_diff"
   ]
  },
  {
   "cell_type": "code",
   "execution_count": 86,
   "metadata": {},
   "outputs": [],
   "source": [
    "'''Define least square function'''\n",
    "def g(x,a):\n",
    "    g = a[0]/((x-a[1])**2+a[2])\n",
    "    return g\n",
    "\n",
    "def chi_square(a):\n",
    "    chi_square = 0\n",
    "    for i in range(n):\n",
    "        chi_square += (y_data[i] - g(x_data[i],a))^2\n",
    "    return chi_square"
   ]
  },
  {
   "cell_type": "code",
   "execution_count": 87,
   "metadata": {},
   "outputs": [],
   "source": [
    "'''Four functions that need to be fitted through Newton Raphson'''\n",
    "def func1(a):\n",
    "\n",
    "    diff = 0\n",
    "    for i in range(n):\n",
    "        diff += (y_data[i] - a[0]/((x_data[i]-a[1])**2+a[2]))*lam_f_a(x=x_data[i], b=a[1], c=a[2])\n",
    "   \n",
    "    return diff\n",
    "\n",
    "\n",
    "def func2(a):\n",
    "\n",
    "    diff = 0\n",
    "    for i in range(n):\n",
    "        diff += (y_data[i] - a[0]/((x_data[i]-a[1])**2+a[2]))*lam_f_b(x=x_data[i], a=a[0], b=a[1], c=a[2])\n",
    "    \n",
    "    return diff\n",
    "\n",
    "def func3(a):\n",
    "\n",
    "    diff = 0\n",
    "    for i in range(n):\n",
    "        diff += (y_data[i] - a[0]/((x_data[i]-a[1])**2+a[2]))*lam_f_c(x=x_data[i], a=a[0], b=a[1], c=a[2])\n",
    "    \n",
    "    return diff"
   ]
  },
  {
   "cell_type": "code",
   "execution_count": 88,
   "metadata": {},
   "outputs": [],
   "source": [
    "'''Take Jacobian'''\n",
    "jac_func1 = jacobian(func1)\n",
    "jac_func2 = jacobian(func2)\n",
    "jac_func3 = jacobian(func3)\n",
    "\n"
   ]
  },
  {
   "cell_type": "code",
   "execution_count": 89,
   "metadata": {},
   "outputs": [
    {
     "name": "stdout",
     "output_type": "stream",
     "text": [
      "0\n",
      "[[0.29565926]\n",
      " [0.09225464]\n",
      " [0.25889539]]\n",
      "----------\n",
      "1\n",
      "[[0.02711742]\n",
      " [0.0140445 ]\n",
      " [0.00440098]]\n",
      "----------\n",
      "2\n",
      "[[0.00516076]\n",
      " [0.00049207]\n",
      " [0.00699356]]\n",
      "----------\n",
      "3\n",
      "[[4.91004801e-05]\n",
      " [1.19868972e-06]\n",
      " [7.42521412e-05]]\n",
      "----------\n",
      "4\n",
      "[[8.31910981e-09]\n",
      " [1.47254992e-13]\n",
      " [1.30571047e-08]]\n",
      "----------\n",
      "The Solution is: [[66886.38989133]\n",
      " [   77.49357897]\n",
      " [  788.88385761]]\n",
      "LHS of function 1: [-0.]\n",
      "LHS of function 2: [0.]\n",
      "LHS of function 3: [0.]\n"
     ]
    }
   ],
   "source": [
    "i = 0\n",
    "error = 100\n",
    "tol = 1e-6\n",
    "maxiter = 1000\n",
    "M = 3\n",
    "N = 3\n",
    "\n",
    "x_0 = np.array([625*80,7e+01,625], dtype=float).reshape(N,1)\n",
    "fun_evaluate = np.array([func1(x_0),func2(x_0),func3(x_0)]).reshape(M,1)\n",
    "\n",
    "er = []\n",
    "iter = []\n",
    "while np.any(error > tol) and i < maxiter:\n",
    "    \n",
    "    func_evaluate = np.array([func1(x_0),func2(x_0),func3(x_0)]).reshape(M,1)\n",
    "    flat_x_0 = x_0.flatten()\n",
    "    jac = np.array([jac_func1(flat_x_0),jac_func2(flat_x_0),jac_func3(flat_x_0)])\n",
    "    jac.reshape(M,N)\n",
    "\n",
    "    x_new = x_0 - np.linalg.inv(jac)@func_evaluate\n",
    "    error = (abs(x_new - x_0)/x_0)\n",
    "    \n",
    "    x_0 = x_new\n",
    "\n",
    "    print(i)\n",
    "    print(error)\n",
    "    print('-'*10)\n",
    "\n",
    "    er.append(error)\n",
    "    iter.append(i)\n",
    "    \n",
    "    i += 1\n",
    "    \n",
    "print('The Solution is: {}'.format(x_new))\n",
    "print(\"LHS of function 1: {}\".format(np.around(func1(x_new),12)))\n",
    "print(\"LHS of function 2: {}\".format(np.around(func2(x_new),12)))\n",
    "print(\"LHS of function 3: {}\".format(np.around(func3(x_new),12)))"
   ]
  },
  {
   "cell_type": "code",
   "execution_count": 90,
   "metadata": {},
   "outputs": [
    {
     "data": {
      "image/png": "[encoded data removed]",
      "text/plain": [
       "<Figure size 640x480 with 1 Axes>"
      ]
     },
     "metadata": {},
     "output_type": "display_data"
    }
   ],
   "source": [
    "plt.scatter(x_data,y_data)\n",
    "x = np.linspace(-100,200,600)\n",
    "y = x_new[0]/((x-x_new[1])**2+x_new[2])\n",
    "plt.plot(x,y,'r')\n",
    "plt.show()"
   ]
  }
 ],
 "metadata": {
  "kernelspec": {
   "display_name": "Python 3.9.15",
   "language": "python",
   "name": "python3"
  },
  "language_info": {
   "codemirror_mode": {
    "name": "ipython",
    "version": 3
   },
   "file_extension": ".py",
   "mimetype": "text/x-python",
   "name": "python",
   "nbconvert_exporter": "python",
   "pygments_lexer": "ipython3",
   "version": "3.9.15"
  },
  "orig_nbformat": 4,
  "vscode": {
   "interpreter": {
    "hash": "fcd807a811bd8488411e50265cbd2f28a878ba75709ae6720af9bf309764d787"
   }
  }
 },
 "nbformat": 4,
 "nbformat_minor": 2
}
