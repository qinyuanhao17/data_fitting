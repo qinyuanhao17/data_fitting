{
 "cells": [
  {
   "cell_type": "code",
   "execution_count": 22,
   "metadata": {},
   "outputs": [],
   "source": [
    "import numpy as np\n",
    "import matplotlib.pyplot as plt\n",
    "import openpyxl as xl\n",
    "from lmfit import minimize, Parameters, report_fit"
   ]
  },
  {
   "cell_type": "code",
   "execution_count": 23,
   "metadata": {},
   "outputs": [
    {
     "name": "stdout",
     "output_type": "stream",
     "text": [
      "[27.1878211  27.39941959 27.59435358 27.80654143 28.01822121 28.23059196\n",
      " 28.44314561 28.6224922  28.84408939 29.05763884 29.25332477 29.46583778\n",
      " 29.66924628 29.87255316 30.07569747 30.28693016 30.49737026 30.69941715\n",
      " 30.91014177 31.11257479 31.30649265 31.5266063  31.72127609 31.933342\n",
      " 32.13685212 32.34030126]\n",
      "[1.36701486 1.34505024 1.346598   1.37331404 1.35806399 1.39988782\n",
      " 1.45681944 1.57084769 1.67477564 1.81396079 1.87761836 1.93119269\n",
      " 1.93273477 1.92588362 1.90560334 1.85342313 1.73577583 1.6248488\n",
      " 1.53070251 1.4516697  1.3692853  1.35067227 1.33039767 1.34704185\n",
      " 1.35697714 1.3618765 ]\n"
     ]
    }
   ],
   "source": [
    "'''Import data and get the length of data'''\n",
    "x = []\n",
    "y = []\n",
    "wb = xl.load_workbook('D:\\getdata\\pl_gaussian\\single_peak_gaussian.xlsx')\n",
    "sheet = wb['Sheet1']\n",
    "\n",
    "for row in range(1, sheet.max_row + 1):\n",
    "    x.append(sheet.cell(row,1).value)\n",
    "for row in range(1, sheet.max_row + 1):\n",
    "    y.append(sheet.cell(row,2).value)\n",
    "\n",
    "x_data =np.array(x)\n",
    "y_data =np.array(y)\n",
    "n = len(x_data)\n",
    "print(x_data)\n",
    "print(y_data)"
   ]
  },
  {
   "cell_type": "code",
   "execution_count": 24,
   "metadata": {},
   "outputs": [],
   "source": [
    "def g(x,a):\n",
    "    g = a[0]+a[1]*np.exp(-4*np.log(2)*(x-a[2])**2/a[3]**2)/(a[3]*np.sqrt(np.pi/(4*np.log(2))))\n",
    "    return g"
   ]
  },
  {
   "cell_type": "code",
   "execution_count": 25,
   "metadata": {},
   "outputs": [
    {
     "name": "stdout",
     "output_type": "stream",
     "text": [
      "[[Fit Statistics]]\n",
      "    # fitting method   = leastsq\n",
      "    # function evals   = 41\n",
      "    # data points      = 26\n",
      "    # variables        = 4\n",
      "    chi-square         = 0.01421385\n",
      "    reduced chi-square = 6.4608e-04\n",
      "    Akaike info crit   = -187.302505\n",
      "    Bayesian info crit = -182.270119\n",
      "[[Variables]]\n",
      "    a1:  1.33237798 +/- 0.01004172 (0.75%) (init = 1)\n",
      "    a2:  1.22694249 +/- 0.04693398 (3.83%) (init = 1)\n",
      "    a3:  29.7230786 +/- 0.01682902 (0.06%) (init = 30)\n",
      "    a4:  1.80484671 +/- 0.05586446 (3.10%) (init = 2.5)\n",
      "[[Correlations]] (unreported correlations are < 0.100)\n",
      "    C(a1, a2) = -0.868\n",
      "    C(a2, a4) = 0.817\n",
      "    C(a1, a4) = -0.708\n"
     ]
    }
   ],
   "source": [
    "def residual(params, x, data):\n",
    "    v = params.valuesdict()\n",
    "    a = [v['a1'], v['a2'], v['a3'], v['a4']]\n",
    "    model = g(x,a)\n",
    "    return (data-model)\n",
    "\n",
    "params = Parameters()\n",
    "params.add('a1', value=1)\n",
    "params.add('a2', value=1)\n",
    "params.add('a3', value=30)\n",
    "params.add('a4', value=2.5)\n",
    "\n",
    "out = minimize(residual, params, args=(x_data, y_data))\n",
    "report_fit(out)\n",
    "fitted_params = []\n",
    "for name, param in out.params.items():\n",
    "    fitted_params.append(param.value)"
   ]
  },
  {
   "cell_type": "code",
   "execution_count": 26,
   "metadata": {},
   "outputs": [
    {
     "data": {
      "image/png": "[encoded data removed]",
      "text/plain": [
       "<Figure size 640x480 with 1 Axes>"
      ]
     },
     "metadata": {},
     "output_type": "display_data"
    }
   ],
   "source": [
    "plt.scatter(x_data,y_data)\n",
    "x = np.linspace(27,32.5,100)\n",
    "y = g(x,fitted_params)\n",
    "plt.plot(x,y,'r')\n",
    "plt.show()"
   ]
  }
 ],
 "metadata": {
  "kernelspec": {
   "display_name": "Python 3.9.15",
   "language": "python",
   "name": "python3"
  },
  "language_info": {
   "codemirror_mode": {
    "name": "ipython",
    "version": 3
   },
   "file_extension": ".py",
   "mimetype": "text/x-python",
   "name": "python",
   "nbconvert_exporter": "python",
   "pygments_lexer": "ipython3",
   "version": "3.9.15"
  },
  "orig_nbformat": 4,
  "vscode": {
   "interpreter": {
    "hash": "fcd807a811bd8488411e50265cbd2f28a878ba75709ae6720af9bf309764d787"
   }
  }
 },
 "nbformat": 4,
 "nbformat_minor": 2
}
