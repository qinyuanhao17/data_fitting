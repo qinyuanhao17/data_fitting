{
 "cells": [
  {
   "cell_type": "code",
   "execution_count": 46,
   "metadata": {},
   "outputs": [],
   "source": [
    "import numpy as np\n",
    "import matplotlib.pyplot as plt\n",
    "import pandas as pd\n",
    "from lmfit import minimize, Parameters, report_fit"
   ]
  },
  {
   "cell_type": "code",
   "execution_count": 47,
   "metadata": {},
   "outputs": [
    {
     "name": "stdout",
     "output_type": "stream",
     "text": [
      "12561\n"
     ]
    }
   ],
   "source": [
    "'''Read data'''\n",
    "g2_data = pd.read_csv(r'D:\\Experiment\\LDG33\\20230426_LGD33_test.dat', skiprows=[i for i in range(9)])\n",
    "\n",
    "counts = g2_data['#counts']\n",
    "\n",
    "\n",
    "\n",
    "y = []\n",
    "for items in counts:\n",
    "    y.append(items)\n",
    "x_data = range(len(y))\n",
    "y_data = np.array(y)/np.mean(y)\n",
    "n = len(x_data)\n",
    "print(y.index(min(y)))"
   ]
  },
  {
   "cell_type": "code",
   "execution_count": 48,
   "metadata": {},
   "outputs": [],
   "source": [
    "'''Read data'''\n",
    "g2_data = pd.read_csv(r'D:\\Experiment\\LDG33\\20230426_LGD33_test.dat', skiprows=[i for i in range(9)])\n",
    "\n",
    "counts = g2_data['#counts']\n",
    "\n",
    "\n",
    "\n",
    "y = []\n",
    "for items in counts:\n",
    "    y.append(items)\n",
    "x_data = np.array(range(len(y)))*0.008\n",
    "y_data = np.array(y)/np.mean(y)\n",
    "n = len(x_data)"
   ]
  },
  {
   "cell_type": "code",
   "execution_count": 49,
   "metadata": {},
   "outputs": [],
   "source": [
    "def g(x,a):\n",
    "    g = 1-(1-a[0])*np.exp(-1*np.abs(x-a[1])/a[2])\n",
    "    return g"
   ]
  },
  {
   "cell_type": "code",
   "execution_count": 50,
   "metadata": {},
   "outputs": [
    {
     "name": "stdout",
     "output_type": "stream",
     "text": [
      "[[Fit Statistics]]\n",
      "    # fitting method   = leastsq\n",
      "    # function evals   = 17\n",
      "    # data points      = 65536\n",
      "    # variables        = 3\n",
      "    chi-square         = 275.018448\n",
      "    reduced chi-square = 0.00419664\n",
      "    Akaike info crit   = -358706.391\n",
      "    Bayesian info crit = -358679.120\n",
      "[[Variables]]\n",
      "    a1:  0.07774645 +/- 0.01535509 (19.75%) (init = 0.07)\n",
      "    a2:  100.518260 +/- 0.00335369 (0.00%) (init = 100.488)\n",
      "    a3:  0.28505062 +/- 0.00670659 (2.35%) (init = 0.28)\n",
      "[[Correlations]] (unreported correlations are < 0.100)\n",
      "    C(a1, a3) = 0.707\n"
     ]
    }
   ],
   "source": [
    "def residual(params, x, data):\n",
    "    v = params.valuesdict()\n",
    "    a = [v['a1'], v['a2'], v['a3']]\n",
    "    model = g(x,a)\n",
    "    return (data-model)\n",
    "\n",
    "params = Parameters()\n",
    "params.add('a1', value=0.07)\n",
    "params.add('a2', value=y.index(min(y))*0.008)\n",
    "params.add('a3', value=35*0.008)\n",
    "\n",
    "out = minimize(residual, params, args=(x_data, y_data))\n",
    "report_fit(out)\n",
    "fitted_params = []\n",
    "for name, param in out.params.items():\n",
    "    fitted_params.append(param.value)"
   ]
  },
  {
   "cell_type": "code",
   "execution_count": 51,
   "metadata": {},
   "outputs": [
    {
     "data": {
      "text/plain": [
       "[<matplotlib.lines.Line2D at 0x2fb6081c9a0>]"
      ]
     },
     "execution_count": 51,
     "metadata": {},
     "output_type": "execute_result"
    },
    {
     "data": {
      "image/png": "[encoded data removed]",
      "text/plain": [
       "<Figure size 640x480 with 1 Axes>"
      ]
     },
     "metadata": {},
     "output_type": "display_data"
    }
   ],
   "source": [
    "fig, ax = plt.subplots()\n",
    "ax.plot(x_data[5000:20000],y_data[5000:20000], linewidth=0.5)\n",
    "x = np.linspace(0,200,1000)\n",
    "y = g(x,fitted_params)\n",
    "ax.plot(x,y,'r',lw=1)\n"
   ]
  }
 ],
 "metadata": {
  "kernelspec": {
   "display_name": "Python 3",
   "language": "python",
   "name": "python3"
  },
  "language_info": {
   "codemirror_mode": {
    "name": "ipython",
    "version": 3
   },
   "file_extension": ".py",
   "mimetype": "text/x-python",
   "name": "python",
   "nbconvert_exporter": "python",
   "pygments_lexer": "ipython3",
   "version": "3.9.15"
  },
  "orig_nbformat": 4
 },
 "nbformat": 4,
 "nbformat_minor": 2
}
