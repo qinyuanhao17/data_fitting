{
 "cells": [
  {
   "cell_type": "code",
   "execution_count": 2,
   "metadata": {},
   "outputs": [
    {
     "name": "stdout",
     "output_type": "stream",
     "text": [
      "15\n"
     ]
    }
   ],
   "source": [
    "x = lambda a : a + 10\n",
    "print(x(5))"
   ]
  },
  {
   "cell_type": "code",
   "execution_count": 3,
   "metadata": {},
   "outputs": [],
   "source": [
    "import numpy as np\n",
    "import matplotlib.pyplot as plt\n",
    "from autograd import grad, jacobian"
   ]
  },
  {
   "cell_type": "code",
   "execution_count": 4,
   "metadata": {},
   "outputs": [],
   "source": [
    "func1 = lambda x: x[0] - 2*x[1] + 3*x[2] - 7\n",
    "func2 = lambda x: 2*x[0] - x[1] + x[2] - 4\n",
    "func3 = lambda x: -3*x[0] - 2*x[1] + 2*x[2] + 10\n",
    "\n",
    "jac_func1 = jacobian(func1)\n",
    "jac_func2 = jacobian(func2)\n",
    "jac_func3 = jacobian(func3)"
   ]
  },
  {
   "cell_type": "code",
   "execution_count": 13,
   "metadata": {},
   "outputs": [
    {
     "name": "stdout",
     "output_type": "stream",
     "text": [
      "[[-5.]\n",
      " [-2.]\n",
      " [ 7.]]\n",
      "[[ 1. -2.  3.]\n",
      " [ 2. -1.  1.]\n",
      " [-3. -2.  2.]]\n",
      "[[ 1. -2.  3.]\n",
      " [ 2. -1.  1.]\n",
      " [-3. -2.  2.]]\n"
     ]
    }
   ],
   "source": [
    "i = 0\n",
    "error = 100\n",
    "tol = 1e-12\n",
    "maxiter = 1000\n",
    "M = 3\n",
    "N = 3\n",
    "\n",
    "x_0 = np.array([1,1,1], dtype=float).reshape(N,1)\n",
    "fun_evaluate = np.array([func1(x_0),func2(x_0),func3(x_0)]).reshape(M,1)\n",
    "print(fun_evaluate)\n",
    "flat_x_0 = x_0.flatten()\n",
    "jac = np.array([jac_func1(flat_x_0),jac_func2(flat_x_0),jac_func3(flat_x_0)])\n",
    "print(jac)\n",
    "jac.reshape(N,M)\n",
    "print(jac)\n",
    "\n",
    "x_new = x_0 - np.linalg.inv(jac)@fun_evaluate\n",
    "\n",
    "# error = x_new - x_0"
   ]
  },
  {
   "cell_type": "code",
   "execution_count": 15,
   "metadata": {},
   "outputs": [
    {
     "data": {
      "text/plain": [
       "[0, 1, 2, 3, 4, 5, 6, 7, 8, 9]"
      ]
     },
     "execution_count": 15,
     "metadata": {},
     "output_type": "execute_result"
    }
   ],
   "source": [
    "list(range(10))"
   ]
  },
  {
   "cell_type": "code",
   "execution_count": 18,
   "metadata": {},
   "outputs": [
    {
     "name": "stdout",
     "output_type": "stream",
     "text": [
      "9\n"
     ]
    }
   ],
   "source": [
    "a = np.array([0, 1, 2, 3, 4, 5, 6, 7, 8, 9])\n",
    "print(a[9])"
   ]
  }
 ],
 "metadata": {
  "kernelspec": {
   "display_name": "Python 3.9.15 ('data_fitting')",
   "language": "python",
   "name": "python3"
  },
  "language_info": {
   "codemirror_mode": {
    "name": "ipython",
    "version": 3
   },
   "file_extension": ".py",
   "mimetype": "text/x-python",
   "name": "python",
   "nbconvert_exporter": "python",
   "pygments_lexer": "ipython3",
   "version": "3.9.15"
  },
  "orig_nbformat": 4,
  "vscode": {
   "interpreter": {
    "hash": "900daa50a5cfb2fd8f0ba4069bf1126d50bf4db34b8eab2ab4c39cb5b215420a"
   }
  }
 },
 "nbformat": 4,
 "nbformat_minor": 2
}
