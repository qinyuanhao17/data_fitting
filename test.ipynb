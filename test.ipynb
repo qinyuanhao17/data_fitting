{
 "cells": [
  {
   "cell_type": "code",
   "execution_count": 1,
   "metadata": {},
   "outputs": [],
   "source": [
    "import numpy as np\n",
    "from autograd import jacobian"
   ]
  },
  {
   "cell_type": "code",
   "execution_count": 2,
   "metadata": {},
   "outputs": [],
   "source": [
    "func1 = lambda x: x[0] - 2*x[1] + 3*x[2] - 7\n",
    "func2 = lambda x: 2*x[0] - x[1] + x[2] - 4\n",
    "func3 = lambda x: -3*x[0] - 2*x[1] + 2*x[2] + 10\n",
    "\n",
    "jac_func1 = jacobian(func1)\n",
    "jac_func2 = jacobian(func2)\n",
    "jac_func3 = jacobian(func3)"
   ]
  },
  {
   "cell_type": "code",
   "execution_count": 6,
   "metadata": {},
   "outputs": [
    {
     "name": "stdout",
     "output_type": "stream",
     "text": [
      "[[1.]\n",
      " [1.]\n",
      " [1.]]\n",
      "[[-5.]\n",
      " [-2.]\n",
      " [ 7.]]\n"
     ]
    }
   ],
   "source": [
    "i = 0\n",
    "error = 100\n",
    "tol = 1e-12\n",
    "maxiter = 1000\n",
    "M = 3\n",
    "N = 3\n",
    "\n",
    "x_0 = np.array([1,1,1], dtype=float).reshape(N,1)\n",
    "print(x_0)\n",
    "fun_evaluate = np.array([func1(x_0),func2(x_0),func3(x_0)]).reshape(M,1)\n",
    "print(fun_evaluate)"
   ]
  },
  {
   "cell_type": "code",
   "execution_count": 7,
   "metadata": {},
   "outputs": [
    {
     "name": "stdout",
     "output_type": "stream",
     "text": [
      "0\n",
      "[[1.57142857]\n",
      " [6.85714286]\n",
      " [5.71428571]]\n",
      "----------\n",
      "1\n",
      "[[5.18104078e-16]\n",
      " [5.65204449e-16]\n",
      " [5.29127569e-16]]\n",
      "----------\n",
      "The Solution is: [[2.57142857]\n",
      " [7.85714286]\n",
      " [6.71428571]]\n",
      "LHS of function 1: [-0.]\n",
      "LHS of function 2: [0.]\n",
      "LHS of function 3: [-0.]\n"
     ]
    }
   ],
   "source": [
    "er = []\n",
    "iter = []\n",
    "while np.any(error > tol) and i < maxiter:\n",
    "    func_evaluate = np.array([func1(x_0),func2(x_0),func3(x_0)]).reshape(M,1)\n",
    "    flat_x_0 = x_0.flatten()\n",
    "    jac = np.array([jac_func1(flat_x_0),jac_func2(flat_x_0),jac_func3(flat_x_0)])\n",
    "    jac.reshape(M,N)\n",
    "\n",
    "    x_new = x_0 - np.linalg.inv(jac)@func_evaluate\n",
    "    error = (abs(x_new - x_0)/x_0)\n",
    "    \n",
    "    x_0 = x_new\n",
    "\n",
    "    print(i)\n",
    "    print(error)\n",
    "    print('-'*10)\n",
    "\n",
    "    er.append(error)\n",
    "    iter.append(i)\n",
    "    \n",
    "    i += 1\n",
    "    \n",
    "print('The Solution is: {}'.format(x_new))\n",
    "print(\"LHS of function 1: {}\".format(np.around(func1(x_new),12)))\n",
    "print(\"LHS of function 2: {}\".format(np.around(func2(x_new),12)))\n",
    "print(\"LHS of function 3: {}\".format(np.around(func3(x_new),12)))"
   ]
  }
 ],
 "metadata": {
  "kernelspec": {
   "display_name": "Python 3.9.15 ('data_fitting')",
   "language": "python",
   "name": "python3"
  },
  "language_info": {
   "codemirror_mode": {
    "name": "ipython",
    "version": 3
   },
   "file_extension": ".py",
   "mimetype": "text/x-python",
   "name": "python",
   "nbconvert_exporter": "python",
   "pygments_lexer": "ipython3",
   "version": "3.9.15"
  },
  "orig_nbformat": 4,
  "vscode": {
   "interpreter": {
    "hash": "900daa50a5cfb2fd8f0ba4069bf1126d50bf4db34b8eab2ab4c39cb5b215420a"
   }
  }
 },
 "nbformat": 4,
 "nbformat_minor": 2
}
